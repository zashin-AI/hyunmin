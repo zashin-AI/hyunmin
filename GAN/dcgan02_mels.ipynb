{
 "metadata": {
  "language_info": {
   "codemirror_mode": {
    "name": "ipython",
    "version": 3
   },
   "file_extension": ".py",
   "mimetype": "text/x-python",
   "name": "python",
   "nbconvert_exporter": "python",
   "pygments_lexer": "ipython3",
   "version": "3.6.5"
  },
  "orig_nbformat": 2,
  "kernelspec": {
   "name": "python365jvsc74a57bd0b0206a2614c586ab84eeefff9036d762a2b39dcc109d6e1d805eeb76c501de26",
   "display_name": "Python 3.6.5 64-bit ('pj21': conda)"
  }
 },
 "nbformat": 4,
 "nbformat_minor": 2,
 "cells": [
  {
   "source": [
    "# 모두의 딥러닝 20_GAN"
   ],
   "cell_type": "markdown",
   "metadata": {}
  },
  {
   "source": [
    "https://github.com/gilbutITbook/080228/blob/master/deeplearning/run_project/20_GAN.ipynb"
   ],
   "cell_type": "markdown",
   "metadata": {}
  },
  {
   "cell_type": "code",
   "execution_count": 10,
   "metadata": {},
   "outputs": [],
   "source": [
    "from tensorflow.keras.layers import Input, Dense, Reshape, Flatten, Dropout\n",
    "from tensorflow.keras.layers import BatchNormalization, Activation, LeakyReLU, UpSampling2D, Conv2D\n",
    "from tensorflow.keras.models import Sequential, Model\n",
    "\n",
    "import numpy as np\n",
    "import tensorflow as tf\n",
    "import cv2\n",
    "import matplotlib.pyplot as plt\n",
    "import matplotlib.pyplot as plt"
   ]
  },
  {
   "cell_type": "code",
   "execution_count": 11,
   "metadata": {},
   "outputs": [],
   "source": [
    "#이미지가 저장될 폴더가 없다면 만듭니다.\n",
    "# import os\n",
    "# if not os.path.exists(\"E:\\\\nmb\\\\gan_images\"):\n",
    "#     os.makedirs(\"E:\\\\nmb\\\\gan_image\")\n",
    "\n",
    "np.random.seed(3)\n",
    "tf.random.set_seed(3)"
   ]
  },
  {
   "cell_type": "code",
   "execution_count": 12,
   "metadata": {},
   "outputs": [
    {
     "output_type": "stream",
     "name": "stdout",
     "text": [
      "Model: \"sequential_2\"\n_________________________________________________________________\nLayer (type)                 Output Shape              Param #   \n=================================================================\ndense_2 (Dense)              (None, 6272)              633472    \n_________________________________________________________________\nbatch_normalization_2 (Batch (None, 6272)              25088     \n_________________________________________________________________\nreshape_1 (Reshape)          (None, 7, 7, 128)         0         \n_________________________________________________________________\nup_sampling2d_2 (UpSampling2 (None, 14, 14, 128)       0         \n_________________________________________________________________\nconv2d_4 (Conv2D)            (None, 14, 14, 64)        204864    \n_________________________________________________________________\nbatch_normalization_3 (Batch (None, 14, 14, 64)        256       \n_________________________________________________________________\nactivation_3 (Activation)    (None, 14, 14, 64)        0         \n_________________________________________________________________\nup_sampling2d_3 (UpSampling2 (None, 28, 28, 64)        0         \n_________________________________________________________________\nconv2d_5 (Conv2D)            (None, 28, 28, 1)         1601      \n=================================================================\nTotal params: 865,281\nTrainable params: 852,609\nNon-trainable params: 12,672\n_________________________________________________________________\n"
     ]
    }
   ],
   "source": [
    "#생성자 모델을 만듭니다.\n",
    "generator = Sequential()\n",
    "generator.add(Dense(128*7*7, input_dim=100, activation=LeakyReLU(0.2)))\n",
    "generator.add(BatchNormalization())\n",
    "generator.add(Reshape((7, 7, 128)))\n",
    "generator.add(UpSampling2D())\n",
    "generator.add(Conv2D(64, kernel_size=5, padding='same'))\n",
    "generator.add(BatchNormalization())\n",
    "generator.add(Activation(LeakyReLU(0.2)))\n",
    "generator.add(UpSampling2D())\n",
    "generator.add(Conv2D(1, kernel_size=5, padding='same', activation='tanh'))\n",
    "generator.summary()"
   ]
  },
  {
   "source": [
    "Non-trainable params: 12,672    \n",
    "* batch_normalization_9 (Batch (None, 6272)              25088       \n",
    "* batch_normalization_10 (Batc (None, 14, 14, 64)        256      \n",
    "\n",
    "= 25088 + 256 / 2\n"
   ],
   "cell_type": "markdown",
   "metadata": {}
  },
  {
   "cell_type": "code",
   "execution_count": 13,
   "metadata": {},
   "outputs": [
    {
     "output_type": "stream",
     "name": "stdout",
     "text": [
      "Model: \"sequential_3\"\n_________________________________________________________________\nLayer (type)                 Output Shape              Param #   \n=================================================================\nconv2d_6 (Conv2D)            (None, 14, 14, 64)        1664      \n_________________________________________________________________\nactivation_4 (Activation)    (None, 14, 14, 64)        0         \n_________________________________________________________________\ndropout_2 (Dropout)          (None, 14, 14, 64)        0         \n_________________________________________________________________\nconv2d_7 (Conv2D)            (None, 7, 7, 128)         204928    \n_________________________________________________________________\nactivation_5 (Activation)    (None, 7, 7, 128)         0         \n_________________________________________________________________\ndropout_3 (Dropout)          (None, 7, 7, 128)         0         \n_________________________________________________________________\nflatten_1 (Flatten)          (None, 6272)              0         \n_________________________________________________________________\ndense_3 (Dense)              (None, 1)                 6273      \n=================================================================\nTotal params: 212,865\nTrainable params: 0\nNon-trainable params: 212,865\n_________________________________________________________________\n"
     ]
    }
   ],
   "source": [
    "#판별자 모델을 만듭니다.\n",
    "discriminator = Sequential()\n",
    "discriminator.add(Conv2D(64, kernel_size=5, strides=2, input_shape=(28,28,1), padding=\"same\"))\n",
    "discriminator.add(Activation(LeakyReLU(0.2)))\n",
    "discriminator.add(Dropout(0.3))\n",
    "discriminator.add(Conv2D(128, kernel_size=5, strides=2, padding=\"same\"))\n",
    "discriminator.add(Activation(LeakyReLU(0.2)))\n",
    "discriminator.add(Dropout(0.3))\n",
    "discriminator.add(Flatten())\n",
    "discriminator.add(Dense(1, activation='sigmoid'))\n",
    "\n",
    "# compile\n",
    "discriminator.compile(loss='binary_crossentropy', optimizer='adam')\n",
    "discriminator.trainable = False\n",
    "# discriminator.trainable = True\n",
    "discriminator.summary()"
   ]
  },
  {
   "cell_type": "code",
   "execution_count": 6,
   "metadata": {},
   "outputs": [
    {
     "output_type": "stream",
     "name": "stdout",
     "text": [
      "Model: \"model\"\n_________________________________________________________________\nLayer (type)                 Output Shape              Param #   \n=================================================================\ninput_1 (InputLayer)         [(None, 100)]             0         \n_________________________________________________________________\nsequential (Sequential)      (None, 28, 28, 1)         865281    \n_________________________________________________________________\nsequential_1 (Sequential)    (None, 1)                 212865    \n=================================================================\nTotal params: 1,078,146\nTrainable params: 852,609\nNon-trainable params: 225,537\n_________________________________________________________________\n"
     ]
    }
   ],
   "source": [
    "#생성자와 판별자 모델을 연결시키는 gan 모델을 만듭니다.\n",
    "ginput = Input(shape=(100,))                    # input\n",
    "dis_output = discriminator(generator(ginput))   # output\n",
    "gan = Model(ginput, dis_output)\n",
    "gan.compile(loss='binary_crossentropy', optimizer='adam')\n",
    "gan.summary()"
   ]
  },
  {
   "cell_type": "code",
   "execution_count": 16,
   "metadata": {
    "tags": []
   },
   "outputs": [],
   "source": [
    "#신경망을 실행시키는 함수를 만듭니다.\n",
    "def gan_train(epoch, batch_size, saving_interval):\n",
    "\n",
    "  # 데이터 불러오기\n",
    "  X_train = np.load('E:\\\\nmb\\\\nmb_data\\\\npy\\\\1m2s\\\\concate\\\\total_fm_data.npy')\n",
    "  X_train = X_train[:1000]\n",
    "  print(X_train.shape)  # (19184, 128, 173)\n",
    "\n",
    "  X_train = X_train.reshape(X_train.shape[0], 28, 28, 1).astype('float32')\n",
    "  X_train = (X_train - 127.5) / 127.5  \n",
    "    # 픽셀값은 0에서 255사이의 값입니다. 이전에 255로 나누어 줄때는 이를 0~1사이의 값으로 바꾸었던 것인데, \n",
    "    # 여기서는 127.5를 빼준 뒤 127.5로 나누어 줌으로 인해 -1에서 1사이의 값으로 바뀌게 됩니다.\n",
    "  print(X_train.shape)   # (60000, 28, 28, 1)\n",
    "\n",
    "  true = np.ones((batch_size, 1))   # 1로 라벨링\n",
    "    # print(true.shape)     # (32, 1)\n",
    "    # print(true)\n",
    "  fake = np.zeros((batch_size, 1))  # 0으로 라벨링\n",
    "    # print(fake.shape)     # (32, 1)\n",
    "    # print(fake)\n",
    "\n",
    "\n",
    "gan_train(200, 32, 20)"
   ]
  },
  {
   "cell_type": "code",
   "execution_count": null,
   "metadata": {},
   "outputs": [],
   "source": [
    "\n",
    "  for i in range(epoch):\n",
    "        # [1] 실제 데이터를 판별자에 입력하는 부분입니다.\n",
    "        idx = np.random.randint(0, X_train.shape[0], batch_size)    \n",
    "            # 0부터 X_train.shape[0] 까지 batch_size개의 랜덤 값(정수형)을 반환한다.\n",
    "            # print(idx.shape)        # (32,) == (batch_size, )\n",
    "            # print(idx)\n",
    "        imgs = X_train[idx]\n",
    "            # print(imgs.shape)   # (32, 28, 28, 1)\n",
    "            # print(imgs)\n",
    "\n",
    "            # 실제 데이터 이미지 확인하기\n",
    "            # imgs = np.array(imgs[0])\n",
    "            # imgs = np.reshape(imgs,(28, 28))\n",
    "            # print(imgs.shape)\n",
    "            # plt.imshow(imgs,'gray')\n",
    "            # plt.show()\n",
    "\n",
    "            # batch_size : 한 에폭당 생성되는 이미지의 개수\n",
    "\n",
    "        d_loss_real = discriminator.train_on_batch(imgs, true)\n",
    "            # train_on_batch : fit() 과 유사한 기능을 함\n",
    "            # fit()과 차이점 : 고정된 batch_size에 신경쓰지 않는다. \n",
    "            # generator는 매번 새로운 image를 전달해야 하기 때문에 새로운 데이터를 학습해야 한다.\n",
    "            # 현재 전달받은 데이터를 활용해서 가중치를 계산한다.\n",
    "        \n",
    "        # [2] 가상 이미지를 판별자에 입력하는 부분입니다.\n",
    "        noise = np.random.normal(0, 1, (batch_size, 100))   \n",
    "            # 평균이 0, 분산이 1인 표준 정규분포, 랜덤한 값을 반환해준다.\n",
    "            # (batch_size, 100) 행렬로 반환\n",
    "            # print(noise.shape)  # (32, 100)\n",
    "            # print(noise)\n",
    "        gen_imgs = generator.predict(noise)\n",
    "            # print(gen_imgs.shape)     # (32, 28, 28, 1)\n",
    "            # print(gen_imgs)\n",
    "\n",
    "            # 실제 데이터 이미지 확인하기\n",
    "            # gen_imgs = np.array(gen_imgs[0])\n",
    "            # gen_imgs = np.reshape(gen_imgs,(28, 28))\n",
    "            # print(gen_imgs.shape)           # (28, 28)\n",
    "            # plt.imshow(gen_imgs,'gray')\n",
    "            # plt.show()\n",
    "        d_loss_fake = discriminator.train_on_batch(gen_imgs, fake)\n",
    "\n",
    "        #판별자와 생성자의 오차를 계산합니다.\n",
    "        d_loss = 0.5 * np.add(d_loss_real, d_loss_fake) # 판별자 loss\n",
    "        g_loss = gan.train_on_batch(noise, true)        # 생성자 loss\n",
    "        print('epoch:%d' % i, ' d_loss:%.4f' % d_loss, ' g_loss:%.4f' % g_loss)\n",
    "\n",
    "        if i % saving_interval == 0:\n",
    "            # saving_interval 마다 이미지를 출력한다.\n",
    "            noise = np.random.normal(0, 1, (25, 100))\n",
    "              # print(noise.shape)  # (25, 100)\n",
    "            gen_imgs = generator.predict(noise)\n",
    "              # print(gen_imgs.shape)   # (25, 28, 28, 1)\n",
    "            \n",
    "            gen_imgs = 0.5 * gen_imgs + 0.5\n",
    "              # Rescale images 0 - 1\n",
    "\n",
    "            fig, axs = plt.subplots(5, 5)\n",
    "            count = 0\n",
    "            for j in range(5):\n",
    "                  for k in range(5):\n",
    "                      axs[j, k].imshow(gen_imgs[count, :, :, 0], cmap='gray')\n",
    "                      axs[j, k].axis('off') # axis를 제거한다.\n",
    "                      count += 1\n",
    "            # fig.savefig(\"E:\\\\nmb\\\\gan_image/gan_mnist_%d.png\" % i)"
   ]
  }
 ]
}