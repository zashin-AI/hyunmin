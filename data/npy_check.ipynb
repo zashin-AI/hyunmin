{
 "metadata": {
  "language_info": {
   "codemirror_mode": {
    "name": "ipython",
    "version": 3
   },
   "file_extension": ".py",
   "mimetype": "text/x-python",
   "name": "python",
   "nbconvert_exporter": "python",
   "pygments_lexer": "ipython3",
   "version": "3.6.5"
  },
  "orig_nbformat": 2,
  "kernelspec": {
   "name": "python365jvsc74a57bd001290a0d999871628feb3c877411a4324759bcc4c68a2561c90a76493c4c5c35",
   "display_name": "Python 3.6.5 64-bit ('pj21': conda)"
  }
 },
 "nbformat": 4,
 "nbformat_minor": 2,
 "cells": [
  {
   "cell_type": "code",
   "execution_count": 4,
   "metadata": {},
   "outputs": [],
   "source": [
    "import librosa\n",
    "import numpy as np\n",
    "import sklearn\n",
    "import matplotlib.pyplot as plt\n",
    "import librosa.display\n",
    "import gzip\n",
    "import os\n",
    "import sys\n",
    "sys.path.append('c:/nmb/nada/python_import/')\n",
    "from feature_handling import load_data_mel"
   ]
  },
  {
   "cell_type": "code",
   "execution_count": 12,
   "metadata": {},
   "outputs": [
    {
     "output_type": "stream",
     "name": "stdout",
     "text": [
      "(1920, 128, 862)\n(1920,)\n[0 0 0 0 0 0 0 0 0 0 0 0 0 0 0 0 0 0 0 0 0 0 0 0 0 0 0 0 0 0 0 0 0 0 0 0 0\n 0 0 0 0 0 0 0 0 0 0 0 0 0 0 0 0 0 0 0 0 0 0 0 0 0 0 0 0 0 0 0 0 0 0 0 0 0\n 0 0 0 0 0 0 0 0 0 0 0 0 0 0 0 0 0 0 0 0 0 0 0 0 0 0]\n"
     ]
    }
   ],
   "source": [
    "F = np.load('c:\\\\nmb\\\\nmb_data\\\\npy\\\\balance_f_mels.npy')\n",
    "F_l = np.load('c:\\\\nmb\\\\nmb_data\\\\npy\\\\balance_f_label_mels.npy')\n",
    "print(F.shape)\n",
    "print(F_l.shape)\n",
    "print(F_l[:100])"
   ]
  },
  {
   "cell_type": "code",
   "execution_count": 13,
   "metadata": {},
   "outputs": [
    {
     "output_type": "stream",
     "name": "stdout",
     "text": [
      "(1920, 128, 862)\n(1920,)\n[1 1 1 1 1 1 1 1 1 1 1 1 1 1 1 1 1 1 1 1 1 1 1 1 1 1 1 1 1 1 1 1 1 1 1 1 1\n 1 1 1 1 1 1 1 1 1 1 1 1 1 1 1 1 1 1 1 1 1 1 1 1 1 1 1 1 1 1 1 1 1 1 1 1 1\n 1 1 1 1 1 1 1 1 1 1 1 1 1 1 1 1 1 1 1 1 1 1 1 1 1 1]\n"
     ]
    }
   ],
   "source": [
    "M = np.load('c:\\\\nmb\\\\nmb_data\\\\npy\\\\balance_m_mels.npy')\n",
    "M_l = np.load('c:\\\\nmb\\\\nmb_data\\\\npy\\\\balance_m_label_mels.npy')\n",
    "print(M.shape)\n",
    "print(M_l.shape)\n",
    "print(M_l[:100])"
   ]
  },
  {
   "cell_type": "code",
   "execution_count": 15,
   "metadata": {},
   "outputs": [
    {
     "output_type": "stream",
     "name": "stdout",
     "text": [
      "(1920, 128, 862)\n(1920,)\n[0 0 0 0 0 0 0 0 0 0 0 0 0 0 0 0 0 0 0 0 0 0 0 0 0 0 0 0 0 0 0 0 0 0 0 0 0\n 0 0 0 0 0 0 0 0 0 0 0 0 0 0 0 0 0 0 0 0 0 0 0 0 0 0 0 0 0 0 0 0 0 0 0 0 0\n 0 0 0 0 0 0 0 0 0 0 0 0 0 0 0 0 0 0 0 0 0 0 0 0 0 0]\n"
     ]
    }
   ],
   "source": [
    "de_F = np.load('c:\\\\nmb\\\\nmb_data\\\\npy\\\\denoise_balance_f_mels.npy')\n",
    "de_F_l = np.load('c:\\\\nmb\\\\nmb_data\\\\npy\\\\denoise_balance_f_label_mels.npy')\n",
    "print(de_F.shape)\n",
    "print(de_F_l.shape)\n",
    "print(de_F_l[:100])"
   ]
  },
  {
   "cell_type": "code",
   "execution_count": 16,
   "metadata": {},
   "outputs": [
    {
     "output_type": "stream",
     "name": "stdout",
     "text": [
      "(1920, 128, 862)\n(1920,)\n[1 1 1 1 1 1 1 1 1 1 1 1 1 1 1 1 1 1 1 1 1 1 1 1 1 1 1 1 1 1 1 1 1 1 1 1 1\n 1 1 1 1 1 1 1 1 1 1 1 1 1 1 1 1 1 1 1 1 1 1 1 1 1 1 1 1 1 1 1 1 1 1 1 1 1\n 1 1 1 1 1 1 1 1 1 1 1 1 1 1 1 1 1 1 1 1 1 1 1 1 1 1]\n"
     ]
    }
   ],
   "source": [
    "de_M = np.load('c:\\\\nmb\\\\nmb_data\\\\npy\\\\denoise_balance_m_mels.npy')\n",
    "de_M_l = np.load('c:\\\\nmb\\\\nmb_data\\\\npy\\\\denoise_balance_m_label_mels.npy')\n",
    "print(de_M.shape)\n",
    "print(de_M_l.shape)\n",
    "print(de_M_l[:100])"
   ]
  },
  {
   "cell_type": "code",
   "execution_count": 17,
   "metadata": {},
   "outputs": [
    {
     "output_type": "stream",
     "name": "stdout",
     "text": [
      "(480, 128, 862)\n(480,)\n[0 0 0 0 0 0 0 0 0 0 0 0 0 0 0 0 0 0 0 0 0 0 0 0 0 0 0 0 0 0 0 0 0 0 0 0 0\n 0 0 0 0 0 0 0 0 0 0 0 0 0 0 0 0 0 0 0 0 0 0 0 0 0 0 0 0 0 0 0 0 0 0 0 0 0\n 0 0 0 0 0 0 0 0 0 0 0 0 0 0 0 0 0 0 0 0 0 0 0 0 0 0]\n"
     ]
    }
   ],
   "source": [
    "im_F = np.load('c:\\\\nmb\\\\nmb_data\\\\npy\\\\imbalance_dataset1_denoise_f_mels.npy')\n",
    "im_F_l = np.load('c:\\\\nmb\\\\nmb_data\\\\npy\\\\imbalance_dataset1_denoise_f_label_mels.npy')\n",
    "print(im_F.shape)\n",
    "print(im_F_l.shape)\n",
    "print(im_F_l[:100])"
   ]
  },
  {
   "cell_type": "code",
   "execution_count": 19,
   "metadata": {},
   "outputs": [
    {
     "output_type": "stream",
     "name": "stdout",
     "text": [
      "(480, 128, 862)\n(480,)\n[1 1 1 1 1 1 1 1 1 1 1 1 1 1 1 1 1 1 1 1 1 1 1 1 1 1 1 1 1 1 1 1 1 1 1 1 1\n 1 1 1 1 1 1 1 1 1 1 1 1 1 1 1 1 1 1 1 1 1 1 1 1 1 1 1 1 1 1 1 1 1 1 1 1 1\n 1 1 1 1 1 1 1 1 1 1 1 1 1 1 1 1 1 1 1 1 1 1 1 1 1 1]\n"
     ]
    }
   ],
   "source": [
    "im_M = np.load('c:\\\\nmb\\\\nmb_data\\\\npy\\\\imbalance_dataset2_denoise_m_mels.npy')\n",
    "im_M_l = np.load('c:\\\\nmb\\\\nmb_data\\\\npy\\\\imbalance_dataset2_denoise_m_label_mels.npy')\n",
    "print(im_M.shape)\n",
    "print(im_M_l.shape)\n",
    "print(im_M_l[:100])"
   ]
  },
  {
   "cell_type": "code",
   "execution_count": 20,
   "metadata": {},
   "outputs": [
    {
     "output_type": "stream",
     "name": "stdout",
     "text": [
      "(480, 128, 862)\n(480,)\n[0 0 0 0 0 0 0 0 0 0 0 0 0 0 0 0 0 0 0 0 0 0 0 0 0 0 0 0 0 0 0 0 0 0 0 0 0\n 0 0 0 0 0 0 0 0 0 0 0 0 0 0 0 0 0 0 0 0 0 0 0 0 0 0 0 0 0 0 0 0 0 0 0 0 0\n 0 0 0 0 0 0 0 0 0 0 0 0 0 0 0 0 0 0 0 0 0 0 0 0 0 0]\n"
     ]
    }
   ],
   "source": [
    "im_F = np.load('c:\\\\nmb\\\\nmb_data\\\\npy\\\\imbalance_dataset1_f_mels.npy')\n",
    "im_F_l = np.load('c:\\\\nmb\\\\nmb_data\\\\npy\\\\imbalance_dataset1_f_label_mels.npy')\n",
    "print(im_F.shape)\n",
    "print(im_F_l.shape)\n",
    "print(im_F_l[:100])"
   ]
  },
  {
   "cell_type": "code",
   "execution_count": 21,
   "metadata": {},
   "outputs": [
    {
     "output_type": "stream",
     "name": "stdout",
     "text": [
      "(480, 128, 862)\n(480,)\n[1 1 1 1 1 1 1 1 1 1 1 1 1 1 1 1 1 1 1 1 1 1 1 1 1 1 1 1 1 1 1 1 1 1 1 1 1\n 1 1 1 1 1 1 1 1 1 1 1 1 1 1 1 1 1 1 1 1 1 1 1 1 1 1 1 1 1 1 1 1 1 1 1 1 1\n 1 1 1 1 1 1 1 1 1 1 1 1 1 1 1 1 1 1 1 1 1 1 1 1 1 1]\n"
     ]
    }
   ],
   "source": [
    "im_M = np.load('c:\\\\nmb\\\\nmb_data\\\\npy\\\\imbalance_dataset2_m_mels.npy')\n",
    "im_M_l = np.load('c:\\\\nmb\\\\nmb_data\\\\npy\\\\imbalance_dataset2_m_label_mels.npy')\n",
    "print(im_M.shape)\n",
    "print(im_M_l.shape)\n",
    "print(im_M_l[:100])"
   ]
  }
 ]
}