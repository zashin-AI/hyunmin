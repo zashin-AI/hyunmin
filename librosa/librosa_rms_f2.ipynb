{
 "metadata": {
  "language_info": {
   "codemirror_mode": {
    "name": "ipython",
    "version": 3
   },
   "file_extension": ".py",
   "mimetype": "text/x-python",
   "name": "python",
   "nbconvert_exporter": "python",
   "pygments_lexer": "ipython3",
   "version": "3.6.5"
  },
  "orig_nbformat": 2,
  "kernelspec": {
   "name": "python365jvsc74a57bd001290a0d999871628feb3c877411a4324759bcc4c68a2561c90a76493c4c5c35",
   "display_name": "Python 3.6.5 64-bit ('pj21': conda)"
  },
  "metadata": {
   "interpreter": {
    "hash": "01290a0d999871628feb3c877411a4324759bcc4c68a2561c90a76493c4c5c35"
   }
  }
 },
 "nbformat": 4,
 "nbformat_minor": 2,
 "cells": [
  {
   "source": [
    "# RMS (Compute root-mean-square)\n",
    "* rms([y, S, frame_length, hop_length, …])\n",
    "* librosa.feature.rms(y=None, S=None, frame_length=2048, hop_length=512, center=True, pad_mode='reflect')\n",
    "* MFCC : STFT 계산을 하지 않기 때문에 빠르다. 하지만 spectogram 이 있다면 spectogram으로 분석하는 게 시간이 더 오래걸리지만 더 정확하다.\n",
    "\n",
    "    < y를 입력하거나 S를 입력해야 한다. >   \n",
    "    y : np.ndarray [shape=(n,)] or None | 소리가 떨리는 세기(진폭)를 시간 순서대로 나열한 것    \n",
    "    S : np.ndarray [shape=(d, t)] or None | spectrogram 진폭    \n",
    "    frame_length : int > 0 [scalar] | 프레임 길이    \n",
    "    hop_length : int > 0 [scalar] | STFT 컬럼 간의 간격    \n",
    "    center : bool | True라고 쓰고 y가 입력되어 있다면 frame_length//2 을 신호로 패딩한다. S가 들어간다면 안 넣어도 됨    \n",
    "    pad_mode : str | numpy.pad에 들어갈 수 있는 기능들을 쓸 수 있다. (‘constant’ , 'edge’, ‘linear_ramp’, ‘maximum’, ‘mean’ , ‘median’ , ‘minimum’ , ‘reflect’ , ‘symmetric’ , ‘wrap’ , ‘empty’    "
   ],
   "cell_type": "markdown",
   "metadata": {}
  },
  {
   "cell_type": "code",
   "execution_count": 4,
   "metadata": {},
   "outputs": [],
   "source": [
    "# 영리's voice\n",
    "import librosa\n",
    "y, sr = librosa.load('../../nmb_data/teamvoice/testvoice_F2.wav')"
   ]
  },
  {
   "cell_type": "code",
   "execution_count": 5,
   "metadata": {},
   "outputs": [
    {
     "output_type": "error",
     "ename": "ModuleNotFoundError",
     "evalue": "No module named 'matplotlib'",
     "traceback": [
      "\u001b[1;31m---------------------------------------------------------------------------\u001b[0m",
      "\u001b[1;31mModuleNotFoundError\u001b[0m                       Traceback (most recent call last)",
      "\u001b[1;32m<ipython-input-5-55ab68e00954>\u001b[0m in \u001b[0;36m<module>\u001b[1;34m\u001b[0m\n\u001b[1;32m----> 1\u001b[1;33m \u001b[1;32mimport\u001b[0m \u001b[0mmatplotlib\u001b[0m\u001b[1;33m.\u001b[0m\u001b[0mpyplot\u001b[0m \u001b[1;32mas\u001b[0m \u001b[0mplt\u001b[0m\u001b[1;33m\u001b[0m\u001b[0m\n\u001b[0m\u001b[0;32m      2\u001b[0m \u001b[1;32mimport\u001b[0m \u001b[0mlibrosa\u001b[0m\u001b[1;33m.\u001b[0m\u001b[0mdisplay\u001b[0m\u001b[1;33m\u001b[0m\u001b[0m\n\u001b[0;32m      3\u001b[0m \u001b[1;33m\u001b[0m\u001b[0m\n\u001b[0;32m      4\u001b[0m \u001b[0mplt\u001b[0m\u001b[1;33m.\u001b[0m\u001b[0mfigure\u001b[0m\u001b[1;33m(\u001b[0m\u001b[0mfigsize\u001b[0m\u001b[1;33m=\u001b[0m\u001b[1;33m(\u001b[0m\u001b[1;36m16\u001b[0m\u001b[1;33m,\u001b[0m\u001b[1;36m6\u001b[0m\u001b[1;33m)\u001b[0m\u001b[1;33m)\u001b[0m\u001b[1;33m\u001b[0m\u001b[0m\n\u001b[0;32m      5\u001b[0m \u001b[0mplt\u001b[0m\u001b[1;33m.\u001b[0m\u001b[0mtitle\u001b[0m\u001b[1;33m(\u001b[0m\u001b[1;34m'2D wave F2'\u001b[0m\u001b[1;33m)\u001b[0m\u001b[1;33m\u001b[0m\u001b[0m\n",
      "\u001b[1;31mModuleNotFoundError\u001b[0m: No module named 'matplotlib'"
     ]
    }
   ],
   "source": [
    "import matplotlib.pyplot as plt\n",
    "import librosa.display\n",
    "\n",
    "plt.figure(figsize=(16,6))\n",
    "plt.title('2D wave F2')\n",
    "librosa.display.waveplot(y=y, sr=sr)\n",
    "plt.show()"
   ]
  },
  {
   "cell_type": "code",
   "execution_count": 6,
   "metadata": {},
   "outputs": [
    {
     "output_type": "stream",
     "name": "stdout",
     "text": [
      "y :  [-2.9244100e-05 -7.4235257e-05 -9.4395844e-05 ...  6.2298583e-04\n -1.2165480e-03 -4.3098307e-03]\nsr :  22050\ny길이 :  110250\nSampling rate (KHz) : 22050\nAudio length (seconds) : 5.00\nrms.shape :  (1, 216)\n"
     ]
    },
    {
     "output_type": "error",
     "ename": "ModuleNotFoundError",
     "evalue": "No module named 'matplotlib'",
     "traceback": [
      "\u001b[1;31m---------------------------------------------------------------------------\u001b[0m",
      "\u001b[1;31mModuleNotFoundError\u001b[0m                       Traceback (most recent call last)",
      "\u001b[1;32m<ipython-input-6-99658bd275e0>\u001b[0m in \u001b[0;36m<module>\u001b[1;34m\u001b[0m\n\u001b[0;32m     10\u001b[0m \u001b[1;33m\u001b[0m\u001b[0m\n\u001b[0;32m     11\u001b[0m \u001b[1;31m# Graph\u001b[0m\u001b[1;33m\u001b[0m\u001b[1;33m\u001b[0m\u001b[0m\n\u001b[1;32m---> 12\u001b[1;33m \u001b[1;32mimport\u001b[0m \u001b[0mmatplotlib\u001b[0m\u001b[1;33m.\u001b[0m\u001b[0mpyplot\u001b[0m \u001b[1;32mas\u001b[0m \u001b[0mplt\u001b[0m\u001b[1;33m\u001b[0m\u001b[0m\n\u001b[0m\u001b[0;32m     13\u001b[0m \u001b[1;32mimport\u001b[0m \u001b[0mlibrosa\u001b[0m\u001b[1;33m.\u001b[0m\u001b[0mdisplay\u001b[0m\u001b[1;33m\u001b[0m\u001b[0m\n\u001b[0;32m     14\u001b[0m \u001b[1;33m\u001b[0m\u001b[0m\n",
      "\u001b[1;31mModuleNotFoundError\u001b[0m: No module named 'matplotlib'"
     ]
    }
   ],
   "source": [
    "# 디폴트 값\n",
    "\n",
    "rms = librosa.feature.rms(y=y)\n",
    "print(\"y : \", y)\n",
    "print(\"sr : \", sr)\n",
    "print(\"y길이 : \", len(y))\n",
    "print(\"Sampling rate (KHz) : %d\" % sr)                  \n",
    "print(\"Audio length (seconds) : %.2f\" % (len(y) / sr)) \n",
    "print(\"rms.shape : \", rms.shape)\n",
    "\n",
    "# Graph\n",
    "import matplotlib.pyplot as plt\n",
    "import librosa.display\n",
    "\n",
    "# plt.figure(figsize=(100, 16))\n",
    "fig, ax = plt.subplots(nrows=2, sharex=True)\n",
    "times = librosa.times_like(rms)\n",
    "ax[0].semilogy(times, rms[0], label='RMS Energy')\n",
    "ax[0].set(xticks=[])\n",
    "ax[0].legend()\n",
    "ax[0].label_outer()\n",
    "\n",
    "librosa.display.specshow(librosa.amplitude_to_db(S, ref=np.max),\n",
    "                         y_axis='log', x_axis='time', ax=ax[1])\n",
    "ax[1].set(title='log Power spectrogram')\n",
    "\n",
    "plt.show()"
   ]
  }
 ]
}