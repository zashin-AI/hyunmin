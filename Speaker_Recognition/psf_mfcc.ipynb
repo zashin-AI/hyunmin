{
 "metadata": {
  "language_info": {
   "codemirror_mode": {
    "name": "ipython",
    "version": 3
   },
   "file_extension": ".py",
   "mimetype": "text/x-python",
   "name": "python",
   "nbconvert_exporter": "python",
   "pygments_lexer": "ipython3",
   "version": "3.6.5"
  },
  "orig_nbformat": 2,
  "kernelspec": {
   "name": "python365jvsc74a57bd0b0206a2614c586ab84eeefff9036d762a2b39dcc109d6e1d805eeb76c501de26",
   "display_name": "Python 3.6.5 64-bit ('pj21': conda)"
  }
 },
 "nbformat": 4,
 "nbformat_minor": 2,
 "cells": [
  {
   "source": [
    "출처 : https://github.com/colinsongf/SpeakerRecognition-1/blob/master/main.ipynb"
   ],
   "cell_type": "markdown",
   "metadata": {}
  },
  {
   "cell_type": "code",
   "execution_count": 9,
   "metadata": {},
   "outputs": [
    {
     "output_type": "stream",
     "name": "stderr",
     "text": [
      "WARNING:root:frame length (1103) is greater than FFT size (512), frame will be truncated. Increase NFFT to avoid.\n",
      "WARNING:root:frame length (1103) is greater than FFT size (512), frame will be truncated. Increase NFFT to avoid.\n",
      "WARNING:root:frame length (1103) is greater than FFT size (512), frame will be truncated. Increase NFFT to avoid.\n",
      "WARNING:root:frame length (1103) is greater than FFT size (512), frame will be truncated. Increase NFFT to avoid.\n"
     ]
    }
   ],
   "source": [
    "import numpy as np\n",
    "import python_speech_features as psf\n",
    "from scipy.io import wavfile\n",
    "import matplotlib.pyplot as plot\n",
    "\n",
    "NO_SPEAKERS = 4\n",
    "\n",
    "spk  = [wavfile.read('E:/nmb/nmb_data/english/english' + str(i) + '.wav') for i in range(1, NO_SPEAKERS + 1)]\n",
    "\n",
    "spk_mfcc = [psf.mfcc(spk[i][1], spk[i][0])  for i in range(0, NO_SPEAKERS)]"
   ]
  },
  {
   "cell_type": "code",
   "execution_count": 10,
   "metadata": {},
   "outputs": [
    {
     "output_type": "stream",
     "name": "stdout",
     "text": [
      "[[ 15.89876109   5.22707736 -41.80189231 ...  -9.55060426 -15.88432911\n  -22.55177395]\n [ 16.44954945   1.93165548 -34.4173019  ...  18.57174994   0.05868837\n   -6.78190638]\n [ 16.7133753    4.28473037 -36.01104048 ...  11.42836222 -11.36798226\n    0.92120964]\n ...\n [ 14.15384889   6.76549726 -30.66197042 ...   4.44253658  -3.80516899\n   -4.09468388]\n [ 14.1207952    4.73538509 -30.57660534 ...  -0.28573419 -11.45991462\n   -9.63630667]\n [ 14.13810361   2.8057542  -27.85593791 ...   5.85195711  -7.40856336\n   -8.62944924]]\n[[ 13.06880602 -12.57239826   5.6066917  ...  -1.6714409    1.87479448\n    3.47968358]\n [ 12.73891593 -14.72291356  -1.73521859 ... -17.94136904 -10.83070479\n   -8.00697503]\n [ 13.00180395 -14.3728039    5.54481615 ... -10.55202414  -6.50679158\n    2.13488029]\n ...\n [ 11.98319207 -14.82304536  11.23615033 ...   0.35049044   5.76624209\n    1.14063086]\n [ 12.34058055 -16.70889433  15.24291177 ...  -4.66118903  -8.03563999\n   -3.49658482]\n [ 15.07966013 -30.14056497  22.15306469 ...  -5.46264915  -4.11970715\n   -7.24719471]]\n[[ 12.63316563 -14.70922728  11.49630217 ...  -0.07044064   3.99454347\n   -1.27292479]\n [ 12.62893444 -12.65400202   7.36611806 ...  -0.13308213  -1.61943543\n  -15.81412818]\n [ 12.80827033 -11.9755634    6.30004263 ...  -2.15710021  -9.0693594\n  -20.20421324]\n ...\n [ 12.24066101 -28.58728989  13.37823956 ... -13.19286879  -8.510061\n   -6.65955136]\n [ 12.2251855  -27.73288349  15.52367885 ...  -5.43311804   4.61294901\n    1.14499491]\n [ 12.31064335 -27.56808815  14.174635   ...  -9.50139108  -2.90861186\n    1.74538587]]\n[[ 5.93797595e+00 -5.06625354e+01  1.32174890e+00 ... -5.56291851e+00\n   2.16938792e+00  8.31457263e+00]\n [ 6.08639283e+00 -4.62233074e+01  5.80680134e+00 ... -1.51840284e+00\n   2.86321918e+00  7.85875248e+00]\n [ 6.10755984e+00 -5.56355629e+01 -4.38705064e+00 ...  5.14443637e-02\n   1.03225572e+01  9.99424567e+00]\n ...\n [ 5.75616550e+00 -5.49389938e+01 -7.23806870e+00 ... -6.86547776e+00\n  -3.37424291e+00 -1.15715124e+01]\n [ 5.69865561e+00 -4.92422486e+01 -1.98676578e+00 ... -1.44855777e+00\n   1.65857179e+01  2.41508737e+00]\n [ 5.56965283e+00 -5.54529968e+01 -1.18556598e+01 ... -1.69879660e+01\n  -3.91561325e+00 -1.53511159e+01]]\n"
     ]
    }
   ],
   "source": [
    "from functools import reduce\n",
    "for i, speaker_mfcc in enumerate(spk_mfcc):\n",
    "    average = reduce(lambda acc, ele: acc + ele, speaker_mfcc)\n",
    "    average = list(map(lambda x: x/len(speaker_mfcc), average))\n",
    "    print(speaker_mfcc)\n",
    "    for j, feature_vector in enumerate(speaker_mfcc):\n",
    "        for k, feature in enumerate(feature_vector):\n",
    "            spk_mfcc[i][j][k] -= average[k]"
   ]
  },
  {
   "cell_type": "code",
   "execution_count": 11,
   "metadata": {},
   "outputs": [
    {
     "output_type": "stream",
     "name": "stdout",
     "text": [
      "0\n1\n2\n3\n"
     ]
    }
   ],
   "source": [
    "from sklearn.mixture import GaussianMixture\n",
    "\n",
    "GMM = []\n",
    "UBM = []\n",
    "for i in range(NO_SPEAKERS):\n",
    "    GMM.append(GaussianMixture(n_components= 256, covariance_type= 'diag'))\n",
    "    UBM.append(GaussianMixture(n_components= 256, covariance_type= 'diag'))\n",
    "    \n",
    "total_mfcc = []\n",
    "speaker_label = []\n",
    "spk_train_size = []\n",
    "spk_start = []\n",
    "spk_end = []\n",
    "for i in range(NO_SPEAKERS):\n",
    "    spk_train_size.append(int(0.9 * len(spk_mfcc[i])))\n",
    "    spk_start.append(len(total_mfcc))\n",
    "    print(i)\n",
    "    for mfcc in spk_mfcc[i][0:spk_train_size[i], :]:\n",
    "        total_mfcc.append(mfcc)\n",
    "        speaker_label.append(i)\n",
    "    spk_end.append(len(total_mfcc))"
   ]
  },
  {
   "cell_type": "code",
   "execution_count": 12,
   "metadata": {},
   "outputs": [],
   "source": [
    "for i in range(NO_SPEAKERS):\n",
    "    GMM[i].fit(spk_mfcc[i])\n",
    "    UBM[i].fit(total_mfcc[:spk_start[i]] + total_mfcc[spk_end[i]:])"
   ]
  },
  {
   "cell_type": "code",
   "execution_count": 13,
   "metadata": {},
   "outputs": [
    {
     "output_type": "stream",
     "name": "stdout",
     "text": [
      "For speaker 1\naccuracy is 0.9723502304147466\nFor speaker 2\naccuracy is 0.9760765550239234\nFor speaker 3\naccuracy is 0.9591836734693877\nFor speaker 4\naccuracy is 0.946927374301676\n"
     ]
    }
   ],
   "source": [
    "\n",
    "for i in range(NO_SPEAKERS):\n",
    "    print(\"For speaker {}\".format(i+1))\n",
    "    x = GMM[i].score_samples(spk_mfcc[i][spk_train_size[i] + 2 : ]) - UBM[i].score_samples(spk_mfcc[i][spk_train_size[i] + 2 : ])\n",
    "    total = 0 \n",
    "    correct = 0\n",
    "    for i in x:\n",
    "        if i > 0:\n",
    "            correct +=1 \n",
    "        total += 1\n",
    "    print(\"accuracy is {}\".format(correct/total))"
   ]
  },
  {
   "cell_type": "code",
   "execution_count": 14,
   "metadata": {},
   "outputs": [
    {
     "output_type": "error",
     "ename": "AttributeError",
     "evalue": "'numpy.ndarray' object has no attribute 'predict'",
     "traceback": [
      "\u001b[1;31m---------------------------------------------------------------------------\u001b[0m",
      "\u001b[1;31mAttributeError\u001b[0m                            Traceback (most recent call last)",
      "\u001b[1;32m<ipython-input-14-6958c5cda998>\u001b[0m in \u001b[0;36m<module>\u001b[1;34m\u001b[0m\n\u001b[0;32m      1\u001b[0m \u001b[1;32mimport\u001b[0m \u001b[0mmatplotlib\u001b[0m\u001b[1;33m.\u001b[0m\u001b[0mpyplot\u001b[0m \u001b[1;32mas\u001b[0m \u001b[0mplot\u001b[0m\u001b[1;33m\u001b[0m\u001b[0m\n\u001b[1;32m----> 2\u001b[1;33m \u001b[0mcolors\u001b[0m \u001b[1;33m=\u001b[0m \u001b[1;33m[\u001b[0m\u001b[1;34m'r'\u001b[0m \u001b[1;32mif\u001b[0m \u001b[0mi\u001b[0m\u001b[1;33m==\u001b[0m\u001b[1;36m0\u001b[0m \u001b[1;32melse\u001b[0m \u001b[1;34m'g'\u001b[0m \u001b[1;32mfor\u001b[0m \u001b[0mi\u001b[0m \u001b[1;32min\u001b[0m \u001b[0mx\u001b[0m\u001b[1;33m.\u001b[0m\u001b[0mpredict\u001b[0m\u001b[1;33m(\u001b[0m\u001b[0mspk_mfcc\u001b[0m\u001b[1;33m[\u001b[0m\u001b[1;36m1\u001b[0m\u001b[1;33m]\u001b[0m\u001b[1;33m[\u001b[0m\u001b[0mspk_train_size\u001b[0m\u001b[1;33m[\u001b[0m\u001b[1;36m1\u001b[0m\u001b[1;33m]\u001b[0m \u001b[1;33m+\u001b[0m \u001b[1;36m2\u001b[0m \u001b[1;33m:\u001b[0m \u001b[1;33m]\u001b[0m\u001b[1;33m)\u001b[0m\u001b[1;33m]\u001b[0m\u001b[1;33m\u001b[0m\u001b[0m\n\u001b[0m\u001b[0;32m      3\u001b[0m \u001b[0max\u001b[0m \u001b[1;33m=\u001b[0m \u001b[0mplot\u001b[0m\u001b[1;33m.\u001b[0m\u001b[0mgca\u001b[0m\u001b[1;33m(\u001b[0m\u001b[1;33m)\u001b[0m\u001b[1;33m\u001b[0m\u001b[0m\n\u001b[0;32m      4\u001b[0m \u001b[0max\u001b[0m\u001b[1;33m.\u001b[0m\u001b[0mscatter\u001b[0m\u001b[1;33m(\u001b[0m\u001b[0mspk_mfcc\u001b[0m\u001b[1;33m[\u001b[0m\u001b[1;36m1\u001b[0m\u001b[1;33m]\u001b[0m\u001b[1;33m[\u001b[0m\u001b[1;33m:\u001b[0m\u001b[1;33m,\u001b[0m\u001b[1;36m0\u001b[0m\u001b[1;33m]\u001b[0m\u001b[1;33m,\u001b[0m \u001b[0mspk_mfcc\u001b[0m\u001b[1;33m[\u001b[0m\u001b[1;36m1\u001b[0m\u001b[1;33m]\u001b[0m\u001b[1;33m[\u001b[0m\u001b[1;33m:\u001b[0m\u001b[1;33m,\u001b[0m\u001b[1;36m1\u001b[0m\u001b[1;33m]\u001b[0m\u001b[1;33m,\u001b[0m \u001b[0mc\u001b[0m\u001b[1;33m=\u001b[0m\u001b[0mcolors\u001b[0m\u001b[1;33m,\u001b[0m \u001b[0malpha\u001b[0m\u001b[1;33m=\u001b[0m\u001b[1;36m0.8\u001b[0m\u001b[1;33m)\u001b[0m\u001b[1;33m\u001b[0m\u001b[0m\n\u001b[0;32m      5\u001b[0m \u001b[0mplot\u001b[0m\u001b[1;33m.\u001b[0m\u001b[0mshow\u001b[0m\u001b[1;33m(\u001b[0m\u001b[1;33m)\u001b[0m\u001b[1;33m\u001b[0m\u001b[0m\n",
      "\u001b[1;31mAttributeError\u001b[0m: 'numpy.ndarray' object has no attribute 'predict'"
     ]
    }
   ],
   "source": [
    "import matplotlib.pyplot as plot\n",
    "colors = ['r' if i==0 else 'g' for i in x.predict(spk_mfcc[1][spk_train_size[1] + 2 : ])]\n",
    "ax = plot.gca()\n",
    "ax.scatter(spk_mfcc[1][:,0], spk_mfcc[1][:,1], c=colors, alpha=0.8)\n",
    "plot.show()"
   ]
  },
  {
   "cell_type": "code",
   "execution_count": null,
   "metadata": {},
   "outputs": [],
   "source": []
  }
 ]
}